{
 "cells": [
  {
   "cell_type": "markdown",
   "metadata": {},
   "source": [
    "<div>\n",
    "<div style='float:left; margin-right:40pt; width:6cm'><img src='images/Eiffel.png'></div>\n",
    "<div style='float:right; font-size:large; text-align:right'><strong>Partie 3 pré-rentrée : introduction des outils de programmation</strong><br>\n",
    "L1 Mathématiques - Informatique / L1 MIASH <br>\n",
    "</div>\n",
    "</div>"
   ]
  },
  {
   "cell_type": "markdown",
   "metadata": {},
   "source": [
    "# La pratique informagique"
   ]
  },
  {
   "cell_type": "markdown",
   "metadata": {},
   "source": [
    "Ce notebook a été crée spécialement pour : \n",
    "1. Vous initier au fonctionnement d'un notebook ;\n",
    "2. Vous familiariser avec l'organisation des cours de Python ;\n",
    "\n",
    "Dans ce cadre le contenu de ce fichier est fortement inspiré du premier cours de Python. Ne soyez pas surpris si vous trouver des ressemblances.\n",
    "\n",
    "Dans ce \"pseudo\" cours vous allez :\n",
    "1. Découvrir quelques types Python de base, apprendre à les reconnaitre et les utiliser ;\n",
    "2. Vérifier vos premières connaissances sur ces types."
   ]
  },
  {
   "cell_type": "markdown",
   "metadata": {},
   "source": [
    "## I - Quelques infos à connaître"
   ]
  },
  {
   "cell_type": "markdown",
   "metadata": {},
   "source": [
    "Avant de vous lâcher dans la nature pour découvrir les secrets de notre très cher mentaliste, on se doit de vous fournir un rapide \"cours\" de Python."
   ]
  },
  {
   "cell_type": "markdown",
   "metadata": {},
   "source": [
    "### Les différents types de valeurs\n",
    "\n",
    "Toutes les valeurs en Python possèdent un **type**. Le type d'une valeur définit les **opérations** qu'il est possible de lui appliquer.\n",
    "\n",
    "Les types de base qu'on va utiliser dans cet exercice sont :"
   ]
  },
  {
   "cell_type": "markdown",
   "metadata": {},
   "source": [
    "* Les nombres entiers (`int`)"
   ]
  },
  {
   "cell_type": "markdown",
   "metadata": {},
   "source": [
    "Ces nombres sont des entiers relatifs. Autrement dit, ils peuvent être tout aussi bien positif que négatif."
   ]
  },
  {
   "cell_type": "code",
   "execution_count": null,
   "metadata": {},
   "outputs": [],
   "source": [
    "12345"
   ]
  },
  {
   "cell_type": "code",
   "execution_count": null,
   "metadata": {},
   "outputs": [],
   "source": [
    "-4  # un exemple de nombre négatif"
   ]
  },
  {
   "cell_type": "markdown",
   "metadata": {},
   "source": [
    "On peut leur appliquer des opérateurs tels que `+` ou `-`"
   ]
  },
  {
   "cell_type": "code",
   "execution_count": null,
   "metadata": {},
   "outputs": [],
   "source": [
    "-5 - -8 + 3"
   ]
  },
  {
   "cell_type": "markdown",
   "metadata": {},
   "source": [
    "* Les chaînes de caractères (`str`)"
   ]
  },
  {
   "cell_type": "markdown",
   "metadata": {},
   "source": [
    "Une chaine de caractères est une succession de symboles (lettres, chiffres, ou autres) entre des guillemets.\n",
    "\n",
    "En Python, il y a plusieurs moyen d'en construire pour répondre à la nécessité d'avoir à l'intérieur d'elle même des guillemets."
   ]
  },
  {
   "cell_type": "code",
   "execution_count": null,
   "metadata": {},
   "outputs": [],
   "source": [
    "'bonjour'  # guillemets simples"
   ]
  },
  {
   "cell_type": "code",
   "execution_count": null,
   "metadata": {},
   "outputs": [],
   "source": [
    "\"hello !\"  # guillemets doubles"
   ]
  },
  {
   "cell_type": "code",
   "execution_count": null,
   "metadata": {},
   "outputs": [],
   "source": [
    "\"\"\"Pour des chaînes plus longues\n",
    "(par exemple un paragraphe entier)\n",
    "on peut utiliser des guillemets\n",
    "triples.\"\"\""
   ]
  },
  {
   "cell_type": "markdown",
   "metadata": {},
   "source": [
    "Il faut faire un peu attention pour écrire une chaîne de caractères contenant des apostrophes ou des guillemets :"
   ]
  },
  {
   "cell_type": "code",
   "execution_count": null,
   "metadata": {},
   "outputs": [],
   "source": [
    "\"King's Landing\""
   ]
  },
  {
   "cell_type": "code",
   "execution_count": null,
   "metadata": {},
   "outputs": [],
   "source": [
    "'Mon nom est \"Personne\".'"
   ]
  },
  {
   "cell_type": "markdown",
   "metadata": {},
   "source": [
    "Pour afficher une chaîne dans un programme Python, on utilise `print`"
   ]
  },
  {
   "cell_type": "code",
   "execution_count": null,
   "metadata": {},
   "outputs": [],
   "source": [
    "print(\"Bonjour à toi, Ô lecteur attentif !\")"
   ]
  },
  {
   "cell_type": "markdown",
   "metadata": {},
   "source": [
    "* Les booléens (`bool`)\n",
    "\n",
    "Ce type permet de représenter les deux valeurs de vérité « vrai » et « faux »."
   ]
  },
  {
   "cell_type": "code",
   "execution_count": null,
   "metadata": {},
   "outputs": [],
   "source": [
    "True    # vrai"
   ]
  },
  {
   "cell_type": "code",
   "execution_count": null,
   "metadata": {},
   "outputs": [],
   "source": [
    "False   # faux"
   ]
  },
  {
   "cell_type": "markdown",
   "metadata": {},
   "source": [
    "<img src='images/warning.png' width='50px' style='display:inline'> **Attention :** Les majuscules/minuscules sont importantes :"
   ]
  },
  {
   "cell_type": "code",
   "execution_count": null,
   "metadata": {},
   "outputs": [],
   "source": [
    "true  # provoque une exception (une erreur)"
   ]
  },
  {
   "cell_type": "markdown",
   "metadata": {},
   "source": [
    "Les booléens servent notamment à évaluer des opérations"
   ]
  },
  {
   "cell_type": "code",
   "execution_count": null,
   "metadata": {},
   "outputs": [],
   "source": [
    "5 > 8 # Supérieur"
   ]
  },
  {
   "cell_type": "code",
   "execution_count": null,
   "metadata": {},
   "outputs": [],
   "source": [
    "True or False # Vrai OU Faux"
   ]
  },
  {
   "cell_type": "code",
   "execution_count": null,
   "metadata": {},
   "outputs": [],
   "source": [
    "5 <= 8 and 2 >= 2 # Inférieur ou égal ET Supérieur ou égal"
   ]
  },
  {
   "cell_type": "markdown",
   "metadata": {},
   "source": [
    "### La condition `if`"
   ]
  },
  {
   "cell_type": "markdown",
   "metadata": {},
   "source": [
    "`if` permet en fonction du booléen obtenu, d'exécuter ou non une partie du code"
   ]
  },
  {
   "cell_type": "code",
   "execution_count": null,
   "metadata": {},
   "outputs": [],
   "source": [
    "if(False):\n",
    "    print(\"Cette ligne ne sera pas affiché\")\n",
    "else: \n",
    "    # Dans le cas où la condition if n'est pas respectée\n",
    "    print(\"Par contre, cette ligne le sera\")\n",
    "\n",
    "# Attention : l'indentation est très importante en Python\n",
    "print(\"Celle-ci aussi\")"
   ]
  },
  {
   "cell_type": "markdown",
   "metadata": {},
   "source": [
    "### Exécuter une cellule du notebook"
   ]
  },
  {
   "cell_type": "markdown",
   "metadata": {},
   "source": [
    "En programmation, vous entendrez souvent les mots \"exécuter\" et \"compiler\", ces termes signifient simplement qu'on va \"lancer\" / \"démarrer\" le programme (comme... un programme de machine à laver)."
   ]
  },
  {
   "cell_type": "markdown",
   "metadata": {},
   "source": [
    " **Remarque** : Lorsque vous avancerez dans votre vie de programmeur, et que vous découvrirez d'autres langages de programmation (et oui, Python n'est pas le seul comme vous pouvez vous en douter !), faites attention à ne pas utiliser les mots **exécuter** et **compiler** comme des synonymes, car ce n'est en général pas le cas ! En python, on ne fait pas la différence, mais ce n'est par exemple pas le cas pour le C. Cette année - et cette année seulement - vous pourrez utiliser cet abus de langage."
   ]
  },
  {
   "cell_type": "markdown",
   "metadata": {},
   "source": [
    "> **Exécuter un code sous Jupyter**  \n",
    "   Appuyez sur une cellule puis cliquez sur le bouton `Run` (ou `Exécuter`), représenté par un bouton \"play\".  "
   ]
  },
  {
   "cell_type": "code",
   "execution_count": null,
   "metadata": {},
   "outputs": [],
   "source": [
    "# Ceci est une cellule Input\n",
    "print(\"Bip boup, j'ai bien été executée\")"
   ]
  },
  {
   "cell_type": "markdown",
   "metadata": {},
   "source": [
    "Une cellule est exécuté lorsque celle-ci affiche un numéro dans la partie entre crochets `[ ]`\n",
    "**Note** : Un raccourci pour aller plus vite : `ctrl` + `enter` sur la cellule sélectionnée."
   ]
  },
  {
   "cell_type": "markdown",
   "metadata": {},
   "source": [
    "N'hésitez pas à revenir dans ce mini cours lors de la séance pour vous aider"
   ]
  },
  {
   "cell_type": "markdown",
   "metadata": {},
   "source": [
    "## II - Exercice\n",
    "\n",
    "Vous êtes désormais fin prêt pour révéler au monde le secret du mentaliste !"
   ]
  },
  {
   "cell_type": "markdown",
   "metadata": {},
   "source": [
    "1. Exécutez les 3 cellules ci-dessous."
   ]
  },
  {
   "cell_type": "code",
   "execution_count": null,
   "metadata": {},
   "outputs": [],
   "source": [
    "import datetime\n",
    "     \n",
    "date = datetime.datetime.now()"
   ]
  },
  {
   "cell_type": "markdown",
   "metadata": {},
   "source": [
    "Vous avez à votre disposition les variables suivantes :"
   ]
  },
  {
   "cell_type": "code",
   "execution_count": null,
   "metadata": {},
   "outputs": [],
   "source": [
    "jour_actuel = date.day      # la date d'aujourd'hui (jj : int)\n",
    "mois_actuel = date.month    # le mois actuel (mm : int)\n",
    "annee_actuelle = date.year  # l'année actuelle (2023)"
   ]
  },
  {
   "cell_type": "code",
   "execution_count": null,
   "metadata": {},
   "outputs": [],
   "source": [
    "# pour ces variables, il faudra saisir des nombres\n",
    "jour_naissance = int(input(\"Quelle est votre jour de naissance ? (jj) \"))\n",
    "mois_naissance = int(input(\"Quelle est votre mois de naissance ? (mm) \"))\n",
    "annee_naissance = int(input(\"Quelle est votre année de naissance ? (aaaa) \"))"
   ]
  },
  {
   "cell_type": "markdown",
   "metadata": {},
   "source": [
    "2. Créez une variable `age` dans la cellule suivante contenant l'âge à déterminer puis exécutez la."
   ]
  },
  {
   "cell_type": "code",
   "execution_count": null,
   "metadata": {},
   "outputs": [],
   "source": [
    "# Insérer votre formule magique ici !\n"
   ]
  },
  {
   "cell_type": "markdown",
   "metadata": {},
   "source": [
    "3. Vérifiez votre code en exécutant la cellule ci-dessous :  "
   ]
  },
  {
   "cell_type": "code",
   "execution_count": null,
   "metadata": {},
   "outputs": [],
   "source": [
    "print(\"Je peux affirmer que vous avez\", age, \"ans !\")"
   ]
  },
  {
   "cell_type": "markdown",
   "metadata": {},
   "source": [
    "<img src='images/warning.png' width='50px' style='display:inline'> **Attention** : Une erreur peut s'afficher si vous n'avez pas exécuté la cellule précédente"
   ]
  }
 ],
 "metadata": {
  "kernelspec": {
   "display_name": "Python 3 (ipykernel)",
   "language": "python",
   "name": "python3"
  },
  "language_info": {
   "codemirror_mode": {
    "name": "ipython",
    "version": 3
   },
   "file_extension": ".py",
   "mimetype": "text/x-python",
   "name": "python",
   "nbconvert_exporter": "python",
   "pygments_lexer": "ipython3",
   "version": "3.10.11"
  }
 },
 "nbformat": 4,
 "nbformat_minor": 2
}
